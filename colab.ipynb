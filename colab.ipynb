{
 "cells": [
  {
   "cell_type": "markdown",
   "metadata": {},
   "source": [
    "# Open-Set LID Prototype – Colab\n",
    "\n",
    "This notebook trains the multilingual classifier (SEEN langs), extracts logits on UNSEEN langs, then plots OOD PR curves (MSP, Energy, Mahalanobis) and a reliability diagram (ECE)."
   ]
  },
  {
   "cell_type": "code",
   "metadata": {"id": "setup"},
   "source": [
    "!nvidia-smi || echo \"CPU runtime\"\n",
    "%cd /content\n",
    "REPO_URL = \"https://github.com/Vabi-tech/open-set-lid-prototype.git\"\n",
    "!rm -rf open-set-lid-prototype && git clone $REPO_URL\n",
    "%cd /content/open-set-lid-prototype\n",
    "!pip install -q -r requirements.txt\n",
    "%env WANDB_DISABLED=true\n",
    "%env HF_HUB_DISABLE_TELEMETRY=1\n",
    "%env PYTHONPATH=/content/open-set-lid-prototype"
   ],
   "execution_count": null,
   "outputs": []
  },
  {
   "cell_type": "markdown",
   "metadata": {},
   "source": ["## 1) Train on SEEN languages"]
  },
  {
   "cell_type": "code",
   "metadata": {"id": "train"},
   "source": [
    "!python -m src.train_classifier \\\n",
    "  --dataset papluca \\\n",
    "  --seen_langs en,es,de,fr,it \\\n",
    "  --output_dir models/lid-seen \\\n",
    "  --epochs 3 --batch_size 16 --lr 3e-5"
   ],
   "execution_count": null,
   "outputs": []
  },
  {
   "cell_type": "markdown",
   "metadata": {},
   "source": ["## 2) Extract logits/features for SEEN test + UNSEEN languages"]
  },
  {
   "cell_type": "code",
   "metadata": {"id": "extract"},
   "source": [
    "!python -m src.extract_logits \\\n",
    "  --dataset papluca \\\n",
    "  --model_dir /content/open-set-lid-prototype/models/lid-seen \\\n",
    "  --seen_langs en,es,de,fr,it \\\n",
    "  --unseen_langs pt,ru,sv \\\n",
    "  --max_per_lang 2000 \\\n",
    "  --out_path outputs/preds.jsonl"
   ],
   "execution_count": null,
   "outputs": []
  },
  {
   "cell_type": "markdown",
   "metadata": {},
   "source": ["## 3) Plot OOD PR curves + reliability diagram"]
  },
  {
   "cell_type": "code",
   "metadata": {"id": "plot"},
   "source": [
    "!python scripts/plot_ood_and_calibration.py \\\n",
    "  --preds outputs/preds.jsonl \\\n",
    "  --out_dir outputs\n",
    "\n",
    "from IPython.display import Image, display\n",
    "display(Image('outputs/pr_msp.png'))\n",
    "display(Image('outputs/pr_energy.png'))\n",
    "display(Image('outputs/pr_mahalanobis.png'))\n",
    "display(Image('outputs/reliability.png'))"
   ],
   "execution_count": null,
   "outputs": []
  }
 ],
 "metadata": {
  "colab": { "provenance": [] },
  "kernelspec": { "display_name": "Python 3", "language": "python", "name": "python3" },
  "language_info": { "name": "python" }
 },
 "nbformat": 4,
 "nbformat_minor": 5
}
